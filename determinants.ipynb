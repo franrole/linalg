{
 "cells": [
  {
   "cell_type": "markdown",
   "metadata": {},
   "source": [
    "# Determinants "
   ]
  },
  {
   "cell_type": "markdown",
   "metadata": {},
   "source": [
    "## Computing a determinant"
   ]
  },
  {
   "cell_type": "markdown",
   "metadata": {},
   "source": [
    "\n",
    "Let's compute the determinant of the following square matrix :\n",
    "\n",
    "\\begin{bmatrix}\n",
    "3 &4 &6 \\\\\n",
    "0 &1 &2 \\\\\n",
    "5& 3& 1 \n",
    "\\end{bmatrix}\n",
    "\n"
   ]
  },
  {
   "cell_type": "code",
   "execution_count": 14,
   "metadata": {
    "collapsed": false
   },
   "outputs": [],
   "source": [
    "import numpy as np\n",
    "from numpy import linalg\n",
    "A=np.mat(\"3 4 6 ; 0 1 2 ; 5 3 1\")"
   ]
  },
  {
   "cell_type": "markdown",
   "metadata": {},
   "source": [
    "The co-factor $A_{ij}$ of $A$ is $(-1)^{i+j}M_{ij}$ where $M_{ij}$ is the (minor) determinant of the submatrix derived from $A$ by removing line $i$ and column $j$."
   ]
  },
  {
   "cell_type": "markdown",
   "metadata": {},
   "source": [
    "Recall that $det A = \\sum_{k=i}^{n}a_{ik} A_{ik}$ for any line $i$ (or any column $i$). We choose the 2nd line since it contains a $0$. The computation is as follows:"
   ]
  },
  {
   "cell_type": "markdown",
   "metadata": {},
   "source": [
    "Compute $A_{22}$ as $(-1)^{2+2}(3-30)$"
   ]
  },
  {
   "cell_type": "code",
   "execution_count": 15,
   "metadata": {
    "collapsed": false
   },
   "outputs": [
    {
     "data": {
      "text/plain": [
       "-27"
      ]
     },
     "execution_count": 15,
     "metadata": {},
     "output_type": "execute_result"
    }
   ],
   "source": [
    "A_22=(-1)**4 * (3-30) ; A_22"
   ]
  },
  {
   "cell_type": "markdown",
   "metadata": {},
   "source": [
    "Compute $A_{23}$ as $(-1)^{2+3}(9-20)$"
   ]
  },
  {
   "cell_type": "code",
   "execution_count": 16,
   "metadata": {
    "collapsed": false
   },
   "outputs": [
    {
     "data": {
      "text/plain": [
       "11"
      ]
     },
     "execution_count": 16,
     "metadata": {},
     "output_type": "execute_result"
    }
   ],
   "source": [
    "A_23=(-1)**5 * (9-20) ; A_23"
   ]
  },
  {
   "cell_type": "markdown",
   "metadata": {},
   "source": [
    "$det A= a_{22}A_{22}  + a_{23}A_{23} = -27 + 2(11) =-5$"
   ]
  },
  {
   "cell_type": "markdown",
   "metadata": {},
   "source": [
    "***NUMPY:*** verify the result using Numpy:"
   ]
  },
  {
   "cell_type": "code",
   "execution_count": 17,
   "metadata": {
    "collapsed": false
   },
   "outputs": [
    {
     "data": {
      "text/plain": [
       "-5.0000000000000036"
      ]
     },
     "execution_count": 17,
     "metadata": {},
     "output_type": "execute_result"
    }
   ],
   "source": [
    "linalg.det(A)"
   ]
  },
  {
   "cell_type": "code",
   "execution_count": 27,
   "metadata": {
    "collapsed": false
   },
   "outputs": [],
   "source": [
    "def cofactor(A,i,j) :\n",
    "    submatrix=A[np.array(range(i)+range(i+1,A.shape[0]))[:,np.newaxis], range(j)+range(j+1,A.shape[1]) ]\n",
    "    return (-1)**(i+j)  * linalg.det(submatrix)\n",
    "    \n",
    "detA= A[1,1] *  cofactor(A,1,1) + A[1,2] *  cofactor(A,1,2) ; detA\n",
    "\n"
   ]
  },
  {
   "cell_type": "markdown",
   "metadata": {},
   "source": [
    "## Properties Of Determinants"
   ]
  },
  {
   "cell_type": "markdown",
   "metadata": {},
   "source": [
    "### For two matrices $A$ and $B$ of the same order $det AB = det A \\, det B$."
   ]
  },
  {
   "cell_type": "code",
   "execution_count": 19,
   "metadata": {
    "collapsed": false
   },
   "outputs": [
    {
     "data": {
      "text/plain": [
       "matrix([[145, 128, 158,  23],\n",
       "        [114,  59,   9,  85],\n",
       "        [ 39, 104,  18,  74],\n",
       "        [173,  75,  23,  59]])"
      ]
     },
     "execution_count": 19,
     "metadata": {},
     "output_type": "execute_result"
    }
   ],
   "source": [
    "A=np.matrix(np.random.randint(200, size=(4,4)));A"
   ]
  },
  {
   "cell_type": "code",
   "execution_count": 20,
   "metadata": {
    "collapsed": false
   },
   "outputs": [
    {
     "data": {
      "text/plain": [
       "matrix([[140, 164, 153, 103],\n",
       "        [119,  31,   6,  11],\n",
       "        [ 50, 144,  24,  27],\n",
       "        [ 62, 167,  41, 161]])"
      ]
     },
     "execution_count": 20,
     "metadata": {},
     "output_type": "execute_result"
    }
   ],
   "source": [
    "B=np.matrix(np.random.randint(200, size=(4,4)));B"
   ]
  },
  {
   "cell_type": "code",
   "execution_count": 21,
   "metadata": {
    "collapsed": false
   },
   "outputs": [
    {
     "data": {
      "text/plain": [
       "-16342606685111668.0"
      ]
     },
     "execution_count": 21,
     "metadata": {},
     "output_type": "execute_result"
    }
   ],
   "source": [
    "linalg.det(A*B)"
   ]
  },
  {
   "cell_type": "code",
   "execution_count": 22,
   "metadata": {
    "collapsed": false
   },
   "outputs": [
    {
     "data": {
      "text/plain": [
       "-16342606685111670.0"
      ]
     },
     "execution_count": 22,
     "metadata": {},
     "output_type": "execute_result"
    }
   ],
   "source": [
    "linalg.det(A) * linalg.det(B) "
   ]
  },
  {
   "cell_type": "markdown",
   "metadata": {},
   "source": [
    "### If we form $B$ from a square matrix $A$ by adding a constant times one row of $A$ to another row of $A$ , then $det A =det B$."
   ]
  },
  {
   "cell_type": "code",
   "execution_count": 23,
   "metadata": {
    "collapsed": false
   },
   "outputs": [
    {
     "name": "stdout",
     "output_type": "stream",
     "text": [
      "-4830905.0\n",
      "-4830905.0\n"
     ]
    }
   ],
   "source": [
    "A = np.matrix([[143,  65, 129, 116],\n",
    "        [ 18,  31,  37,  97],\n",
    "        [124,  53, 101, 110],\n",
    "        [195,  21,  98, 149]])\n",
    "\n",
    "B= np.matrix([[143,  65, 129, 116],\n",
    "        [ 161,  96,  166,  213],\n",
    "        [124,  53, 101, 110],\n",
    "        [195,  21,  98, 149]])\n",
    "\n",
    "print(linalg.det(A))\n",
    "print(linalg.det(B))\n"
   ]
  },
  {
   "cell_type": "markdown",
   "metadata": {},
   "source": [
    "### $det A^T= det A$"
   ]
  },
  {
   "cell_type": "code",
   "execution_count": 24,
   "metadata": {
    "collapsed": false
   },
   "outputs": [
    {
     "name": "stdout",
     "output_type": "stream",
     "text": [
      "-4830905.0\n"
     ]
    }
   ],
   "source": [
    "print(linalg.det(A.T))"
   ]
  },
  {
   "cell_type": "markdown",
   "metadata": {},
   "source": [
    "### if $A$ is invertible $det A^{-1}= 1 /det A$"
   ]
  },
  {
   "cell_type": "code",
   "execution_count": 25,
   "metadata": {
    "collapsed": false
   },
   "outputs": [
    {
     "name": "stdout",
     "output_type": "stream",
     "text": [
      "-2.0700055165647044e-07 = -2.0700055165647044e-07\n"
     ]
    }
   ],
   "source": [
    "print(\"{} = {}\".format(linalg.det(A.I), 1./linalg.det(A)))"
   ]
  },
  {
   "cell_type": "markdown",
   "metadata": {},
   "source": [
    "And most importantly, if a square $n \\times n$ matrix $A$ has a $0$ determinant then:\n",
    "- The columns are dependent\n",
    "- The rows are dependent\n",
    "- $Ax=b$ has no or infinitely many solutions\n",
    "- $Ax=0$ has infinitely many solutions\n",
    "- $A$ has $r<n$ pivots\n",
    "- The reduced row echelon form has at least one zero row\n",
    "- The column and row spaces have dimensions $r<n$\n",
    "- $o$ is an eignevalue of $A$\n",
    "- $A^TA$ is only semi-definite\n",
    "- $A$ has $r<n$ singular values\n",
    "\n",
    "Let's check these properties using an example."
   ]
  },
  {
   "cell_type": "code",
   "execution_count": 35,
   "metadata": {
    "collapsed": false
   },
   "outputs": [
    {
     "name": "stdout",
     "output_type": "stream",
     "text": [
      "Two rows are dependent so we have det A = 0.0 \n"
     ]
    }
   ],
   "source": [
    "A = np.matrix([[143,  65, 129, 116],\n",
    "        [ 286,  130,  258,  232],\n",
    "        [124,  53, 101, 110],\n",
    "        [18,  31,  37, 97]])\n",
    "print(\"Two rows are dependent so we have det A = {} \".format(linalg.det(A)))"
   ]
  },
  {
   "cell_type": "code",
   "execution_count": 37,
   "metadata": {
    "collapsed": false
   },
   "outputs": [],
   "source": [
    "A = np.matrix([[143,  65, 129, 116],\n",
    "        [ 286,  130,  258,  232],\n",
    "        [124,  53, 101, 110],\n",
    "        [18,  31,  37, 97]])\n",
    "b = np.array([100,150,200,350])\n",
    "# np.linalg.solve(A,b )   numpy would tell us  LinAlgError: Singular matrix !!!\n",
    "# if A was not singular we would have one soulution: x=A^-1b\n",
    "# In this cas we can still use  use lstsq for the least-squares best “solution”."
   ]
  },
  {
   "cell_type": "code",
   "execution_count": 39,
   "metadata": {
    "collapsed": false
   },
   "outputs": [],
   "source": [
    "A = np.matrix([[143,  65, 129, 116],\n",
    "        [ 286,  130,  258,  232],\n",
    "        [124,  53, 101, 110],\n",
    "        [18,  31,  37, 97]],dtype=float)\n",
    "b = np.array([0.,0.,0.,0.])\n",
    "# np.linalg.solve(A,b )  again LinAlgError: Singular matrix !!!\n",
    "# if A was not singular we would have one soulution: x=0"
   ]
  },
  {
   "cell_type": "code",
   "execution_count": null,
   "metadata": {
    "collapsed": true
   },
   "outputs": [],
   "source": []
  }
 ],
 "metadata": {
  "kernelspec": {
   "display_name": "Python 3",
   "language": "python",
   "name": "python3"
  },
  "language_info": {
   "codemirror_mode": {
    "name": "ipython",
    "version": 3
   },
   "file_extension": ".py",
   "mimetype": "text/x-python",
   "name": "python",
   "nbconvert_exporter": "python",
   "pygments_lexer": "ipython3",
   "version": "3.4.0"
  }
 },
 "nbformat": 4,
 "nbformat_minor": 0
}
